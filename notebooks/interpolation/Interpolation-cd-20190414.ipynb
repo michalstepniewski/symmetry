{
 "cells": [
  {
   "cell_type": "markdown",
   "metadata": {},
   "source": [
    "1. Wyznacza Pan woksele stanowiące różnicę między obrysami. Np. takie woksele \"zielone\", które mają styczność z co najmniej jednym wokselem \"czerwonym\". To daje Panu cienką warstwę stanowiącą płaszczyznę między półkulami. Ma ona maksymalnie X z Y punktów (czyli np. 400x 300)\n",
    "2. Z tej płaszczyzny generuje Pan \"kratkę\" w taki sposób, jak sugeruję powyżej. Odrzucając 90% warstw dostanie Pan ~40x30 -> 1200 punktów.\n",
    "3. Traktuje Pan te punkty jako funkcję (X,Y -> Z) czyli (punkt w płaszczyźnie koronalnej, punkt w płaszczyźnie horyzontalnej) -> punkt w płaszczyźnie środkowo bocznej. Korzystamy tutaj z faktu, że punkty \"raczej\" na siebie nie zachodzą, narysowana ręcznie płaszczyzna nie powinna istotnie odbiegać od funkcji (x,y) -> z. \n",
    "4. Traktując otrzymane zbiór właśnie jako f(x,y) -> z. (można sobie go narysować w matplotlibie) robi Pan interpolację brakujących punktów.\n",
    "\n",
    "1. Znaleźć  takie woksele \"zielone\" (mask_val=1), które mają styczność z co najmniej jednym wokselem \"czerwonym\". (mask_val=2).\n",
    "Otrzymuję cienką warstwę stanowiącą płaszczyznę między półkulami.\n",
    "Ma ona maksymalnie X z Y punktów (czyli np. 400x 300)\n",
    "2. Z tej płaszczyzny generuje Pan \"kratkę\" w taki sposób, jak sugeruję powyżej.\n",
    "Czyli w jaki? (psucie maski?)\n",
    " Odrzucając 90% warstw dostanie Pan ~40x30 -> 1200 punktów.\n",
    "\n",
    "3. Traktuje jako f(X,Y -> Z) czyli (punkt w płaszczyźnie koronalnej, punkt w płaszczyźnie horyzontalnej) -> punkt w płaszczyźnie środkowo bocznej. Korzystamy tutaj z faktu, że punkty \"raczej\" na siebie nie zachodzą, narysowana ręcznie płaszczyzna nie powinna istotnie odbiegać od funkcji (x,y) -> z. \n",
    "4. Traktując otrzymane zbiór właśnie jako f(x,y) -> z. (można sobie go narysować w matplotlibie) robi Pan interpolację brakujących punktów.\n",
    "(interpolacja funkcji)"
   ]
  },
  {
   "cell_type": "code",
   "execution_count": 3,
   "metadata": {},
   "outputs": [],
   "source": [
    "import os, numpy as np, matplotlib.pyplot as plt, nibabel as nib\n",
    "from nibabel.testing import data_path\n",
    "from scipy.interpolate import griddata\n",
    "from tqdm import tqdm\n",
    "import pandas as pd\n",
    "import sys\n",
    "sys.path.append('/home/soutys/Praca/konektomika/split_hemispheres/symmetry_fork/symmetry/PYs')\n",
    "from interpolation import *"
   ]
  },
  {
   "cell_type": "code",
   "execution_count": 4,
   "metadata": {},
   "outputs": [],
   "source": [
    "def show(self, cmap=None):\n",
    "        cmap = cmap or plt.cm.gray\n",
    "        fig, ax = plt.subplots(1, 1, figsize=(8, 6))\n",
    "        ax.imshow(self, cmap=cmap)\n",
    "        ax.set_axis_off()\n",
    "        #plt.show()\n",
    "        plt.ioff()\n",
    "        plt.close()\n",
    "        return fig"
   ]
  },
  {
   "cell_type": "markdown",
   "metadata": {},
   "source": [
    "### Załadowujemy trójwymiarową maskę z pliku .nii"
   ]
  },
  {
   "cell_type": "code",
   "execution_count": null,
   "metadata": {},
   "outputs": [],
   "source": [
    "break_mask(input_path='../../data/001_25_mask.nii',\n",
    "              output_path='img_mask_data_broken_1.nii.gz',\n",
    "              direction=1)"
   ]
  },
  {
   "cell_type": "code",
   "execution_count": 11,
   "metadata": {},
   "outputs": [
    {
     "data": {
      "text/plain": [
       "['../../../../data/001_25_mask.nii.gz']"
      ]
     },
     "execution_count": 11,
     "metadata": {},
     "output_type": "execute_result"
    }
   ],
   "source": [
    "import glob\n",
    "glob.glob('../../../../data/001_25_mask.nii.gz')"
   ]
  },
  {
   "cell_type": "markdown",
   "metadata": {},
   "source": [
    "### Teraz nalezy ocenic blad takiej interpolacji\n",
    "Ale to zrobimy pozniej.\n",
    "(img_mask - interp_mask) **2 ( element wise )\n"
   ]
  },
  {
   "cell_type": "markdown",
   "metadata": {},
   "source": [
    "### Teraz interpolacja z konturow.\n",
    "\n",
    "Dla kazdego skrawka w plaszczyznie koronalnej.\n",
    "\n",
    "img_mask_data[:,y,:]\n",
    "\n",
    "wizualizujemy to i bierzemy "
   ]
  },
  {
   "cell_type": "code",
   "execution_count": 12,
   "metadata": {},
   "outputs": [
    {
     "name": "stderr",
     "output_type": "stream",
     "text": [
      "/usr/local/lib/python3.6/dist-packages/ipykernel_launcher.py:4: DeprecationWarning: get_affine method is deprecated.\n",
      "Please use the ``img.affine`` property instead.\n",
      "\n",
      "* deprecated from version: 2.1\n",
      "* Will raise <class 'nibabel.deprecator.ExpiredDeprecationError'> as of version: 4.0\n",
      "  after removing the cwd from sys.path.\n"
     ]
    }
   ],
   "source": [
    "p = '../../../../data/001_25_mask.nii.gz'\n",
    "img_mask = nib.load(p)\n",
    "\n",
    "affine = img_mask.get_affine()\n",
    "img_mask_data = img_mask.get_fdata()\n",
    "\n",
    "#img_mask_broken = break_mask(img_mask_data, direction=1)\n",
    "#img_mask_data = img_mask_broken "
   ]
  },
  {
   "cell_type": "markdown",
   "metadata": {
    "variables": {
     "fig_93": "<img src=\"data:image/png;base64,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\n\"/>"
    }
   },
   "source": [
    "{{fig_93}}"
   ]
  },
  {
   "cell_type": "code",
   "execution_count": 14,
   "metadata": {},
   "outputs": [
    {
     "data": {
      "text/plain": [
       "array([0., 1., 2.])"
      ]
     },
     "execution_count": 14,
     "metadata": {},
     "output_type": "execute_result"
    }
   ],
   "source": [
    "slice_i = img_mask_data[:,93,:]\n",
    "np.unique(slice_i)"
   ]
  },
  {
   "cell_type": "markdown",
   "metadata": {},
   "source": [
    "Wyznacza Pan woksele stanowiące różnicę między obrysami. Np. takie woksele \"zielone\", które mają styczność z co najmniej jednym wokselem \"czerwonym\". To daje Panu cienką warstwę stanowiącą płaszczyznę między półkulami. Ma ona maksymalnie X z Y punktów (czyli np. 400x 300)"
   ]
  },
  {
   "cell_type": "code",
   "execution_count": 44,
   "metadata": {
    "code_folding": [
     9
    ]
   },
   "outputs": [],
   "source": [
    "def check3D(img, y_i, x_i, z_i):\n",
    "    j_lim, k_lim, l_lim = img.shape\n",
    "    for j in range(y_i-1, y_i+1+1):\n",
    "        if 0<=j<=j_lim-1:\n",
    "            for k in range(x_i-1, x_i+1+1):\n",
    "                if 0<=k<=k_lim-1:\n",
    "                    for l in range(z_i-1, z_i+1+1):\n",
    "                        if 0<=l<=l_lim-1:\n",
    "                            if img[j,k,l]==1:\n",
    "                                return True\n",
    "    return False\n",
    "\n",
    "\n",
    "def check2D(slice_i,y_i,x_i):\n",
    "    for j in range(y_i -1,y_i+1+1):\n",
    "        for k in range(x_i -1,x_i+1+1):\n",
    "            if slice_i[j,k]==1:\n",
    "                return True\n",
    "    return False\n",
    "\n",
    "def get_border2D(slice_i):\n",
    "    y, x = np.where(slice_i==2)\n",
    "    border_y = []\n",
    "    border_x = []\n",
    "    for i in range(len(x)):\n",
    "        x_i = x[i]\n",
    "        y_i = y[i]\n",
    "        if check2D(slice_i,y_i,x_i):\n",
    "            border_x.append(x_i)\n",
    "            border_y.append(y_i)\n",
    "    return border_y, border_x\n",
    "    \n",
    "def get_border3D(img):\n",
    "    y, x, z = np.where(img==2)\n",
    "    border_y = []\n",
    "    border_x = []\n",
    "    border_z = []\n",
    "    for i in range(len(y)):\n",
    "        y_i = y[i]\n",
    "        x_i = x[i]\n",
    "        z_i = z[i]\n",
    "        if check3D(img, y_i, x_i, z_i):\n",
    "            border_y.append(y_i)\n",
    "            border_x.append(x_i)\n",
    "            border_z.append(z_i)\n",
    "    return border_y, border_x, border_z\n"
   ]
  },
  {
   "cell_type": "markdown",
   "metadata": {
    "variables": {
     "len(border_y)": "72311"
    }
   },
   "source": [
    "mamy {{len(border_y)}} punktow. zostawiamy co setny."
   ]
  },
  {
   "cell_type": "code",
   "execution_count": 46,
   "metadata": {},
   "outputs": [],
   "source": [
    "border_y, border_x, border_z = get_border3D(img_mask_data)"
   ]
  },
  {
   "cell_type": "code",
   "execution_count": 53,
   "metadata": {},
   "outputs": [],
   "source": [
    "chosen_points = np.random.choice(len(border_y), int(len(border_y)/100.0), replace=False)"
   ]
  },
  {
   "cell_type": "code",
   "execution_count": 75,
   "metadata": {},
   "outputs": [],
   "source": [
    "len(chosen_points)\n",
    "border_chosen_y = []\n",
    "border_chosen_x = []\n",
    "border_chosen_z = []\n",
    "for i in chosen_points:\n",
    "    border_chosen_y.append(border_y[i])\n",
    "    border_chosen_x.append(border_x[i])\n",
    "    border_chosen_z.append(border_z[i])"
   ]
  },
  {
   "cell_type": "code",
   "execution_count": 98,
   "metadata": {},
   "outputs": [
    {
     "data": {
      "text/plain": [
       "389"
      ]
     },
     "execution_count": 98,
     "metadata": {},
     "output_type": "execute_result"
    }
   ],
   "source": [
    "np.max(border_chosen_x)"
   ]
  },
  {
   "cell_type": "code",
   "execution_count": 107,
   "metadata": {},
   "outputs": [
    {
     "name": "stdout",
     "output_type": "stream",
     "text": [
      "(723, 2)\n",
      "(723,)\n"
     ]
    }
   ],
   "source": [
    "from scipy.interpolate import griddata\n",
    "\n",
    "#ze wzgledu na to ze plaszczyzna podzialu jest bardziej prostopadla do osi y\n",
    "#wybieram y do interpolacji\n",
    "grid_x, grid_z = np.mgrid[np.min(border_chosen_x):np.max(border_chosen_x):1,\n",
    "                          np.min(border_chosen_z):np.max(border_chosen_z):1]\n",
    "points = np.rot90(np.array([border_chosen_y,border_chosen_z]))#[::step]\n",
    "points = np.rot90(np.array([border_chosen_y,border_chosen_z]))#[::step]\n",
    "print(points.shape)\n",
    "values = np.array(border_chosen_x)#.transpose()#[::step]\n",
    "print(values.shape)\n",
    "grids = griddata(points, values, (grid_y, grid_z),\n",
    "                             method='linear')\n"
   ]
  },
  {
   "cell_type": "code",
   "execution_count": 108,
   "metadata": {},
   "outputs": [
    {
     "data": {
      "text/plain": [
       "array([[ 5,  5,  5, ...,  5,  5,  5],\n",
       "       [ 6,  6,  6, ...,  6,  6,  6],\n",
       "       [ 7,  7,  7, ...,  7,  7,  7],\n",
       "       ...,\n",
       "       [46, 46, 46, ..., 46, 46, 46],\n",
       "       [47, 47, 47, ..., 47, 47, 47],\n",
       "       [48, 48, 48, ..., 48, 48, 48]])"
      ]
     },
     "execution_count": 108,
     "metadata": {},
     "output_type": "execute_result"
    }
   ],
   "source": [
    "grid_y"
   ]
  },
  {
   "cell_type": "code",
   "execution_count": 110,
   "metadata": {},
   "outputs": [
    {
     "data": {
      "text/plain": [
       "array([[nan, nan, nan, ..., nan, nan, nan],\n",
       "       [nan, nan, nan, ..., nan, nan, nan],\n",
       "       [nan, nan, nan, ..., nan, nan, nan],\n",
       "       ...,\n",
       "       [nan, nan, nan, ..., nan, nan, nan],\n",
       "       [nan, nan, nan, ..., nan, nan, nan],\n",
       "       [nan, nan, nan, ..., nan, nan, nan]])"
      ]
     },
     "execution_count": 110,
     "metadata": {},
     "output_type": "execute_result"
    }
   ],
   "source": [
    "grids"
   ]
  },
  {
   "cell_type": "code",
   "execution_count": 88,
   "metadata": {},
   "outputs": [
    {
     "data": {
      "text/plain": [
       "(232, 405, 280)"
      ]
     },
     "execution_count": 88,
     "metadata": {},
     "output_type": "execute_result"
    }
   ],
   "source": [
    "img_mask_data.shape"
   ]
  },
  {
   "cell_type": "code",
   "execution_count": 105,
   "metadata": {},
   "outputs": [],
   "source": [
    "grids\n",
    "img_mask_data_interp = copy.deepcopy(img_mask_data)\n",
    "offset_y = np.min(border_chosen_y)\n",
    "offset_z = np.min(border_chosen_z)\n",
    "x_max = img_mask_data.shape[1]-1\n",
    "for i in range(grids.shape[0]):\n",
    "    for j in range(grids.shape[1]):\n",
    "        if np.isfinite(grids[i,j]):\n",
    "            x = min(x_max,int(round(grids[i,j])))\n",
    "            x = max(0,x)\n",
    "            img_mask_data_interp[i,x,j]=3"
   ]
  },
  {
   "cell_type": "code",
   "execution_count": null,
   "metadata": {},
   "outputs": [],
   "source": [
    "def fill_interp_contours(img_mask_data, contours={},\n",
    "                         offset=50):\n",
    "    '''\n",
    "    \n",
    "    '''\n",
    "    import copy\n",
    "    interps = []\n",
    "    for y in range(img_mask_data.shape[1]):\n",
    "        slice_i = copy.deepcopy(img_mask_data[:,y,:])\n",
    "        for mask in contours.keys():\n",
    "         gorny_grid_z2, dolny_grid_z2 = [contours[mask][i] for i in [\n",
    "                  'up','down']]\n",
    "         zvals = gorny_grid_z2[:,y]\n",
    "         zvals_d = dolny_grid_z2[:,y]\n",
    "         for x in range(gorny_grid_z2.shape[0]):\n",
    "            #print(zvals[x])\n",
    "            if np.isfinite(zvals[x]):\n",
    "                slice_i[int(round(zvals[x])), x+offset] = mask\n",
    "            if np.isfinite(zvals_d[x]):\n",
    "                slice_i[int(round(zvals_d[x])), x+offset] =mask\n",
    "            if np.isfinite(zvals[x]) and np.isfinite(zvals_d[x]):\n",
    "                for middle_z in range(int(round(zvals_d[x])),int(round(zvals[x]))):\n",
    "                    slice_i[middle_z, x+offset] =mask\n",
    "        interps.append(slice_i)\n",
    "    return np.transpose(np.dstack(interps),(0,2,1))\n"
   ]
  },
  {
   "cell_type": "code",
   "execution_count": 49,
   "metadata": {},
   "outputs": [
    {
     "data": {
      "text/plain": [
       "array([0, 1, 2, 3, 4])"
      ]
     },
     "execution_count": 49,
     "metadata": {},
     "output_type": "execute_result"
    }
   ],
   "source": [
    "np.arange(5)"
   ]
  },
  {
   "cell_type": "code",
   "execution_count": 48,
   "metadata": {},
   "outputs": [],
   "source": [
    "#now to save border in itk snapable form\n",
    "border_img = np.zeros_like(img_mask_data)\n",
    "for i in range(len(border_y)):\n",
    "    border_img[border_y[i], border_x[i], border_z[i]] = 1\n",
    "fa = nib.Nifti1Image(border_img, affine)\n",
    "nib.save(fa, 'border.nii.gz')\n"
   ]
  },
  {
   "cell_type": "code",
   "execution_count": 56,
   "metadata": {},
   "outputs": [],
   "source": [
    "border_img = np.zeros_like(img_mask_data)\n",
    "for i in chosen_points:\n",
    "    border_img[border_y[i], border_x[i], border_z[i]] = 1\n",
    "fa = nib.Nifti1Image(border_img, affine)\n",
    "nib.save(fa, 'border_chosen_points.nii.gz')"
   ]
  },
  {
   "cell_type": "code",
   "execution_count": 47,
   "metadata": {},
   "outputs": [],
   "source": [
    "img_border = copy.deepcopy(img_mask_data)\n",
    "for i in range(len(border_y)):\n",
    "    img_border[border_y[i], border_x[i], border_z[i]] = 3\n",
    "fa = nib.Nifti1Image(img_border, affine)\n",
    "nib.save(fa, 'img_border.nii.gz')"
   ]
  },
  {
   "cell_type": "code",
   "execution_count": 106,
   "metadata": {},
   "outputs": [],
   "source": [
    "fa = nib.Nifti1Image(img_mask_data_interp, affine)\n",
    "nib.save(fa, 'img_mask_data_interp.nii.gz')"
   ]
  },
  {
   "cell_type": "code",
   "execution_count": 55,
   "metadata": {},
   "outputs": [],
   "source": [
    "img_border = copy.deepcopy(img_mask_data)\n",
    "for i in chosen_points:\n",
    "    img_border[border_y[i], border_x[i], border_z[i]] = 3\n",
    "fa = nib.Nifti1Image(img_border, affine)\n",
    "nib.save(fa, 'img_border_chosen_points.nii.gz')"
   ]
  },
  {
   "cell_type": "code",
   "execution_count": null,
   "metadata": {},
   "outputs": [],
   "source": [
    "#teraz zrobic kratke z bordera \n",
    "# wybrac tylko co dziesiata kratke (jakims randomem czy innym gaussem)\n",
    "# \n",
    "# to teraz border_z = f(border_x, border_y)"
   ]
  },
  {
   "cell_type": "code",
   "execution_count": null,
   "metadata": {},
   "outputs": [],
   "source": [
    "prawidlowa_interpolacja_konturow_2D(img_mask_data, direction=1)"
   ]
  },
  {
   "cell_type": "code",
   "execution_count": null,
   "metadata": {},
   "outputs": [],
   "source": [
    "plt.scatter(border_x, border_y, border_z)"
   ]
  },
  {
   "cell_type": "code",
   "execution_count": 57,
   "metadata": {},
   "outputs": [
    {
     "data": {
      "image/png": "[encoded data removed]",
      "text/plain": [
       "<Figure size 432x288 with 1 Axes>"
      ]
     },
     "metadata": {
      "needs_background": "light"
     },
     "output_type": "display_data"
    }
   ],
   "source": [
    "# This import registers the 3D projection, but is otherwise unused.\n",
    "from mpl_toolkits.mplot3d import Axes3D  # noqa: F401 unused import\n",
    "\n",
    "import matplotlib.pyplot as plt\n",
    "import numpy as np\n",
    "\n",
    "# Fixing random state for reproducibility\n",
    "np.random.seed(19680801)\n",
    "\n",
    "\n",
    "def randrange(n, vmin, vmax):\n",
    "    '''\n",
    "    Helper function to make an array of random numbers having shape (n, )\n",
    "    with each number distributed Uniform(vmin, vmax).\n",
    "    '''\n",
    "    return (vmax - vmin)*np.random.rand(n) + vmin\n",
    "\n",
    "fig = plt.figure()\n",
    "ax = fig.add_subplot(111, projection='3d')\n",
    "\n",
    "n = 100\n",
    "\n",
    "# For each set of style and range settings, plot n random points in the box\n",
    "# defined by x in [23, 32], y in [0, 100], z in [zlow, zhigh].\n",
    "#for c, m, zlow, zhigh in [('r', 'o', -50, -25), ('b', '^', -30, -5)]:\n",
    "#    xs = randrange(n, 23, 32)\n",
    "#    ys = randrange(n, 0, 100)\n",
    "#    zs = randrange(n, zlow, zhigh)\n",
    "ax.scatter(border_x, border_y, border_z, c='r', marker='o')\n",
    "\n",
    "ax.set_xlabel('X Label')\n",
    "ax.set_ylabel('Y Label')\n",
    "ax.set_zlabel('Z Label')\n",
    "\n",
    "plt.show()"
   ]
  },
  {
   "cell_type": "code",
   "execution_count": 15,
   "metadata": {},
   "outputs": [
    {
     "name": "stderr",
     "output_type": "stream",
     "text": [
      "/usr/local/lib/python3.6/dist-packages/ipykernel_launcher.py:3: DeprecationWarning: get_affine method is deprecated.\n",
      "Please use the ``img.affine`` property instead.\n",
      "\n",
      "* deprecated from version: 2.1\n",
      "* Will raise <class 'nibabel.deprecator.ExpiredDeprecationError'> as of version: 4.0\n",
      "  This is separate from the ipykernel package so we can avoid doing imports until\n",
      "100%|██████████| 81/81 [00:00<00:00, 1929.68it/s]\n"
     ]
    }
   ],
   "source": [
    "fig_93_2 = show(slice_i==2)\n",
    "y2, x2 = np.where(slice_i==2)\n",
    "df = pd.DataFrame()\n",
    "df['y'] = y2\n",
    "df['x'] = x2\n",
    "df['y'].min()\n",
    "gorny_kontur = df.groupby('x').min().reset_index()\n",
    "#gorny_kontur.plot(kind='scatter', x='x', y='y')\n",
    "dolny_kontur = df.groupby('x').max().reset_index()\n",
    "#dolny_kontur.plot(kind='scatter', x='x', y='y')\n",
    "kontur = pd.concat([gorny_kontur, dolny_kontur])\n",
    "#kontur.plot(kind='scatter', x='x', y='y')\n",
    "#plt.gca().invert_yaxis()"
   ]
  },
  {
   "cell_type": "code",
   "execution_count": 14,
   "metadata": {},
   "outputs": [
    {
     "data": {
      "image/png": "[encoded data removed]",
      "text/plain": [
       "<Figure size 576x432 with 1 Axes>"
      ]
     },
     "execution_count": 14,
     "metadata": {},
     "output_type": "execute_result"
    }
   ],
   "source": [
    "show(np.nan_to_num(img_mask_broken[:,93,:]))"
   ]
  },
  {
   "cell_type": "markdown",
   "metadata": {
    "variables": {
     "fig_93": "<img src=\"data:image/png;base64,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\n\"/>",
     "fig_93_2": "<img src=\"data:image/png;base64,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\n\"/>",
     "kontur.plot(kind='scatter', x='x', y='y'); plt.gca().invert_yaxis()": "<img src=\"data:image/png;base64,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\n\"/>"
    }
   },
   "source": [
    "### Wybór skrawka\n",
    "Do analizy wybrałem skrawek o numerze 93, bo półkule są na nim dobrze oddzielone.\n",
    "\n",
    "skrawek y=93  | skrawek y=93 (druga polkula)\n",
    "- | - \n",
    "{{fig_93}} | {{fig_93_2}}\n",
    "\n",
    "### Bierzemy gorny i dolny kontur:\n",
    "{{kontur.plot(kind='scatter', x='x', y='y'); plt.gca().invert_yaxis()}}"
   ]
  },
  {
   "cell_type": "markdown",
   "metadata": {},
   "source": [
    "### powiedzmy ze wyglada to prawie ok;\n",
    "oprocz tego ze kontur sie nie zamyka ale to wezmiemy dla kazdego x wypelnimy y pomiedzy\n",
    "konturami dwojka\n",
    "(nalozymy taka maske albo cus)\n",
    "jest problem z tymi dwoma kropkami."
   ]
  },
  {
   "cell_type": "markdown",
   "metadata": {},
   "source": [
    "### to teraz wybierzmy sobie dolny kontur i znajdzmy dolny kontur dla kazdego skrawka w plaszczyznie koronalnej\n"
   ]
  },
  {
   "cell_type": "code",
   "execution_count": 32,
   "metadata": {},
   "outputs": [
    {
     "ename": "NameError",
     "evalue": "name 'grid_x' is not defined",
     "output_type": "error",
     "traceback": [
      "\u001b[0;31m---------------------------------------------------------------------------\u001b[0m",
      "\u001b[0;31mNameError\u001b[0m                                 Traceback (most recent call last)",
      "\u001b[0;32m<ipython-input-32-41f202d38797>\u001b[0m in \u001b[0;36m<module>\u001b[0;34m\u001b[0m\n\u001b[0;32m----> 1\u001b[0;31m \u001b[0mgrid_x\u001b[0m\u001b[0;34m.\u001b[0m\u001b[0mmax\u001b[0m\u001b[0;34m(\u001b[0m\u001b[0;34m)\u001b[0m\u001b[0;34m\u001b[0m\u001b[0m\n\u001b[0m",
      "\u001b[0;31mNameError\u001b[0m: name 'grid_x' is not defined"
     ]
    }
   ],
   "source": [
    "#pd.DataFrame(grid_z2[:,93],columns=['y']).reset_index().plot()"
   ]
  },
  {
   "cell_type": "code",
   "execution_count": 5,
   "metadata": {},
   "outputs": [],
   "source": []
  },
  {
   "cell_type": "code",
   "execution_count": 16,
   "metadata": {},
   "outputs": [
    {
     "name": "stderr",
     "output_type": "stream",
     "text": [
      "100%|██████████| 405/405 [00:03<00:00, 130.61it/s]\n"
     ]
    }
   ],
   "source": [
    "dolny_grid_z2, gorny_grid_z2 = prawidlowa_interpolacja_konturow_2D(img_mask_data, direction=1)\n",
    "con_interp = fill_interp_contours(img_mask_data, gorny_grid_z2, dolny_grid_z2)"
   ]
  },
  {
   "cell_type": "code",
   "execution_count": 65,
   "metadata": {},
   "outputs": [],
   "source": [
    "#pd.DataFrame(grid_z2[:,93],columns=['y']).reset_index().plot(kind='scatter',x='index',y='y')"
   ]
  },
  {
   "cell_type": "code",
   "execution_count": 22,
   "metadata": {
    "scrolled": true
   },
   "outputs": [],
   "source": [
    "f1 = show(np.nan_to_num(con_interp[:,94,:]))\n",
    "f2 = show(np.nan_to_num(img_mask_data[:,94,:]))"
   ]
  },
  {
   "cell_type": "markdown",
   "metadata": {
    "variables": {
     "f1": "<img src=\"data:image/png;base64,iVBORw0KGgoAAAANSUhEUgAAAbUAAAFpCAYAAAAbVraJAAAABHNCSVQICAgIfAhkiAAAAAlwSFlzAAALEgAACxIB0t1+/AAAADl0RVh0U29mdHdhcmUAbWF0cGxvdGxpYiB2ZXJzaW9uIDIuMi4zLCBodHRwOi8vbWF0cGxvdGxpYi5vcmcvIxREBQAABmtJREFUeJzt3dFOnEAYgFGm8f1feXrRmGitymaxMB/nXG8U2IQvP4zjmHNuAFDw6+wDAICjiBoAGaIGQIaoAZAhagBkiBoAGaIGQIaoAZAhagBkiBoAGS9nH8C2bdsYw15dAHxqzjn2fM6kBkCGqAGQIWoAZIgaABmXWCgCPK/2vxHH2LUuAN4RNThYLS6wElEjQ0wA79QAyDCpsRTTGPAVUeMSVo/VnkUNq58jrMDjRwAyTGqcojS17F16/vZzpfOHKxE1flzxBv7s31CNMZLXBc7m8SMAGSY1DlOfPI7e4eKrn1e/lvBTRI2H3eWGe+Y2TUf87hW/J1tj8SxR40sr3hgfVb2R/n1ez36X1etEi3dqAGSY1PjgDtPZtt1v8rjb+XJPosa2be2QuZnDfXj8CECGSe1mihOZSQx4JWo3cuWgCRNwBFELu3LEXokZcCTv1ADIMKnFmM6AOxO1gP8ZMkECrszjRwAyTGqL+6kpzUQGrEjUEDAgQ9QWZcd1gI+8UwMgw6S2uDHG7qnNdAbUidqi3gZKrAD+8PgRgAxRAyBD1Ba0wlZYAGcQNQAyRA2ADFFbkNWOAP8magBkiBoAGaIGQIaoLcZyfoDPiRoAGaIGQIaoLcZyfoDPiRoAGaIGQIaoLWLOaeUjwDdEDYAMUQMg4+XsA2Afqx4BvmdSAyBD1ADIEDUAMkRtAZbyA+wjagBkiBoAGaK2AMv5AfYRNQAyRA2ADFEDIEPULszO/ACPsffjhVkgAvAYkxoAGaIGQIaoAZAhagBkiBoAGaIGQIaoAZAhagBkiBoAGaIGQIaoAZAhagBkiBoAGaIGQIaoAZAhagBkiBoAGaIGQIaoAZAhagBkiBoAGaIGQIaoAZAhagBkiBoAGaIGQIaoAZAhagBkiBoAGaIGQIaoAZAhagBkiBoAGaIGQIaoAZAhagBkiBoAGaIGQIaoAZAhagBkiBoAGaIGQIaoAZAhagBkiBoAGaIGQIaoAZAhagBkiBoAGaIGQIaoAZAhagBkiBoAGaIGQIaoAZAhagBkiBoAGaIGQIaoAZAhagBkiBoAGaIGQIaoAZAhagBkiBoAGaIGQIaoAZAhagBkiBoAGaIGQIaoAZAhagBkiBoAGaIGQIaoAZAhagBkiBoAGaIGQIaoAZAhagBkiBoAGaIGQIaoAZAhagBkiBoAGaIGQIaoAZAhagBkiBoAGaIGQIaoAZAhagBkiBoAGaIGQIaoAZAhagBkiBoAGaIGQIaoAZAhagBkiBoAGaIGQIaoAZAhagBkiBoAGaIGQIaoAZAhagBkiBoAGaIGQIaoAZAhagBkiBoAGaIGQIaoAZAhagBkiBoAGaIGQIaoAZAhagBkiBoAGaIGQIaoAZAhagBkiBoAGaIGQIaoAZAhagBkiBoAGaIGQIaoAZAhagBkiBoAGaIGQIaoAZAhagBkiBoAGaIGQIaoAZAhagBkiBoAGaIGQIaoAZAhagBkiBoAGaIGQIaoAZAhagBkiBoAGaIGQIaoAZAhagBkiBoAGaIGQIaoAZAhagBkiBoAGaIGQIaoAZAhagBkiBoAGaIGQIaoAZAhagBkiBoAGaIGQIaoAZAhagBkiBoAGaIGQIaoAZAhagBkiBoAGaIGQIaoAZAhagBkiBoAGaIGQIaoAZAhagBkiBoAGaIGQIaoAZAhagBkiBoAGaIGQIaoAZAhagBkiBoAGaIGQIaoAZAhagBkiBoAGaIGQIaoAZAhagBkiBoAGaIGQIaoAZAhagBkiBoAGaIGQIaoAZAhagBkiBoAGaIGQIaoAZAhagBkiBoAGaIGQIaoAZAhagBkiBoAGaIGQIaoAZAhagBkiBoAGaIGQIaoAZAhagBkiBoAGaIGQIaoAZAhagBkiBoAGaIGQIaoAZAhagBkiBoAGaIGQIaoAZAhagBkiBoAGaIGQIaoAZAhagBkiBoAGaIGQIaoAZAhagBkiBoAGaIGQIaoAZAhagBkiBoAGaIGQIaoAZAhagBkiBoAGaIGQIaoAZAhagBkiBoAGaIGQIaoAZAhagBkiBoAGaIGQIaoAZAhagBkjDnn2ccAAIcwqQGQIWoAZIgaABmiBkCGqAGQIWoAZIgaABmiBkCGqAGQIWoAZIgaABmiBkCGqAGQIWoAZIgaABmiBkCGqAGQIWoAZIgaABmiBkCGqAGQIWoAZIgaABm/AUyLcAAArXaDAAAAAElFTkSuQmCC\n\"/>",
     "f2": "<img src=\"data:image/png;base64,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\n\"/>"
    }
   },
   "source": [
    "skrawek y=93  | skrawek y=93 (interpolowany)\n",
    "- | - \n",
    "{{f2}} | {{f1}}\n",
    "\n",
    "Zadzialalo, chociaz popsulem maske z krokiem 5 a interpolowalem z krokiem 2"
   ]
  },
  {
   "cell_type": "code",
   "execution_count": 26,
   "metadata": {
    "collapsed": true
   },
   "outputs": [
    {
     "data": {
      "image/png": "[encoded data removed]",
      "text/plain": [
       "<Figure size 576x432 with 1 Axes>"
      ]
     },
     "execution_count": 26,
     "metadata": {},
     "output_type": "execute_result"
    }
   ],
   "source": [
    "show(np.nan_to_num(con_interp[:,96,:]))"
   ]
  },
  {
   "cell_type": "code",
   "execution_count": 27,
   "metadata": {
    "collapsed": true
   },
   "outputs": [
    {
     "data": {
      "image/png": "[encoded data removed]",
      "text/plain": [
       "<Figure size 576x432 with 1 Axes>"
      ]
     },
     "execution_count": 27,
     "metadata": {},
     "output_type": "execute_result"
    }
   ],
   "source": [
    "show(np.nan_to_num(con_interp[30,:,:]))"
   ]
  },
  {
   "cell_type": "code",
   "execution_count": 30,
   "metadata": {
    "collapsed": true
   },
   "outputs": [
    {
     "data": {
      "image/png": "[encoded data removed]",
      "text/plain": [
       "<Figure size 576x432 with 1 Axes>"
      ]
     },
     "execution_count": 30,
     "metadata": {},
     "output_type": "execute_result"
    }
   ],
   "source": [
    "show(np.nan_to_num(con_interp[:,350,:]))"
   ]
  },
  {
   "cell_type": "code",
   "execution_count": 142,
   "metadata": {},
   "outputs": [],
   "source": [
    "points = np.random.rand(1000, 2)"
   ]
  },
  {
   "cell_type": "code",
   "execution_count": 143,
   "metadata": {},
   "outputs": [
    {
     "name": "stderr",
     "output_type": "stream",
     "text": [
      "100%|██████████| 185/185 [00:00<00:00, 2379.30it/s]\n"
     ]
    }
   ],
   "source": [
    "point_list = []\n",
    "for i in tqdm(range(x_max)):\n",
    "    for j in range(0, z_max, 2):\n",
    "        point_list.append([i,j])\n",
    "points = np.array(point_list)"
   ]
  },
  {
   "cell_type": "code",
   "execution_count": 144,
   "metadata": {},
   "outputs": [
    {
     "ename": "IndexError",
     "evalue": "index 2 is out of bounds for axis 1 with size 2",
     "output_type": "error",
     "traceback": [
      "\u001b[0;31m---------------------------------------------------------------------------\u001b[0m",
      "\u001b[0;31mIndexError\u001b[0m                                Traceback (most recent call last)",
      "\u001b[0;32m<ipython-input-144-9b4e80c1a610>\u001b[0m in \u001b[0;36m<module>\u001b[0;34m\u001b[0m\n\u001b[0;32m----> 1\u001b[0;31m \u001b[0mvalues\u001b[0m \u001b[0;34m=\u001b[0m \u001b[0mimg_mask_data\u001b[0m\u001b[0;34m[\u001b[0m\u001b[0mpoints\u001b[0m\u001b[0;34m[\u001b[0m\u001b[0;34m:\u001b[0m\u001b[0;34m,\u001b[0m\u001b[0;36m0\u001b[0m\u001b[0;34m]\u001b[0m\u001b[0;34m,\u001b[0m\u001b[0mpoints\u001b[0m\u001b[0;34m[\u001b[0m\u001b[0;34m:\u001b[0m\u001b[0;34m,\u001b[0m\u001b[0;36m1\u001b[0m\u001b[0;34m]\u001b[0m\u001b[0;34m,\u001b[0m\u001b[0mpoints\u001b[0m\u001b[0;34m[\u001b[0m\u001b[0;34m:\u001b[0m\u001b[0;34m,\u001b[0m\u001b[0;36m2\u001b[0m\u001b[0;34m]\u001b[0m\u001b[0;34m]\u001b[0m\u001b[0;34m\u001b[0m\u001b[0m\n\u001b[0m",
      "\u001b[0;31mIndexError\u001b[0m: index 2 is out of bounds for axis 1 with size 2"
     ]
    }
   ],
   "source": [
    "values = img_mask_data[points[:,0],points[:,1],points[:,2]]"
   ]
  },
  {
   "cell_type": "markdown",
   "metadata": {},
   "source": [
    "### trzeba sie zastanowic nad inputem\n",
    "Najwygodniej zeby inputem byl array w ktorym po prostu w nieokreslonych\n",
    "komorkach bylo None"
   ]
  },
  {
   "cell_type": "code",
   "execution_count": 146,
   "metadata": {
    "collapsed": true
   },
   "outputs": [
    {
     "data": {
      "text/plain": [
       "<matplotlib.axes._subplots.AxesSubplot at 0x7efbf6c54898>"
      ]
     },
     "execution_count": 146,
     "metadata": {},
     "output_type": "execute_result"
    },
    {
     "data": {
      "image/png": "[encoded data removed]",
      "text/plain": [
       "<Figure size 432x288 with 1 Axes>"
      ]
     },
     "metadata": {
      "needs_background": "light"
     },
     "output_type": "display_data"
    }
   ],
   "source": [
    "#trzeba zmienic grida zeby sie zaczynal tak od 25"
   ]
  },
  {
   "cell_type": "code",
   "execution_count": 114,
   "metadata": {
    "collapsed": true
   },
   "outputs": [
    {
     "data": {
      "text/html": [
       "<div>\n",
       "<style>\n",
       "    .dataframe thead tr:only-child th {\n",
       "        text-align: right;\n",
       "    }\n",
       "\n",
       "    .dataframe thead th {\n",
       "        text-align: left;\n",
       "    }\n",
       "\n",
       "    .dataframe tbody tr th {\n",
       "        vertical-align: top;\n",
       "    }\n",
       "</style>\n",
       "<table border=\"1\" class=\"dataframe\">\n",
       "  <thead>\n",
       "    <tr style=\"text-align: right;\">\n",
       "      <th></th>\n",
       "      <th>x</th>\n",
       "      <th>z</th>\n",
       "    </tr>\n",
       "  </thead>\n",
       "  <tbody>\n",
       "    <tr>\n",
       "      <th>0</th>\n",
       "      <td>0</td>\n",
       "      <td>0</td>\n",
       "    </tr>\n",
       "    <tr>\n",
       "      <th>1</th>\n",
       "      <td>0</td>\n",
       "      <td>2</td>\n",
       "    </tr>\n",
       "    <tr>\n",
       "      <th>2</th>\n",
       "      <td>0</td>\n",
       "      <td>4</td>\n",
       "    </tr>\n",
       "    <tr>\n",
       "      <th>3</th>\n",
       "      <td>0</td>\n",
       "      <td>6</td>\n",
       "    </tr>\n",
       "    <tr>\n",
       "      <th>4</th>\n",
       "      <td>0</td>\n",
       "      <td>8</td>\n",
       "    </tr>\n",
       "    <tr>\n",
       "      <th>5</th>\n",
       "      <td>0</td>\n",
       "      <td>10</td>\n",
       "    </tr>\n",
       "    <tr>\n",
       "      <th>6</th>\n",
       "      <td>0</td>\n",
       "      <td>12</td>\n",
       "    </tr>\n",
       "    <tr>\n",
       "      <th>7</th>\n",
       "      <td>0</td>\n",
       "      <td>14</td>\n",
       "    </tr>\n",
       "    <tr>\n",
       "      <th>8</th>\n",
       "      <td>0</td>\n",
       "      <td>16</td>\n",
       "    </tr>\n",
       "    <tr>\n",
       "      <th>9</th>\n",
       "      <td>0</td>\n",
       "      <td>18</td>\n",
       "    </tr>\n",
       "    <tr>\n",
       "      <th>10</th>\n",
       "      <td>0</td>\n",
       "      <td>20</td>\n",
       "    </tr>\n",
       "    <tr>\n",
       "      <th>11</th>\n",
       "      <td>0</td>\n",
       "      <td>22</td>\n",
       "    </tr>\n",
       "    <tr>\n",
       "      <th>12</th>\n",
       "      <td>0</td>\n",
       "      <td>24</td>\n",
       "    </tr>\n",
       "    <tr>\n",
       "      <th>13</th>\n",
       "      <td>0</td>\n",
       "      <td>26</td>\n",
       "    </tr>\n",
       "    <tr>\n",
       "      <th>14</th>\n",
       "      <td>0</td>\n",
       "      <td>28</td>\n",
       "    </tr>\n",
       "    <tr>\n",
       "      <th>15</th>\n",
       "      <td>0</td>\n",
       "      <td>30</td>\n",
       "    </tr>\n",
       "    <tr>\n",
       "      <th>16</th>\n",
       "      <td>0</td>\n",
       "      <td>32</td>\n",
       "    </tr>\n",
       "    <tr>\n",
       "      <th>17</th>\n",
       "      <td>0</td>\n",
       "      <td>34</td>\n",
       "    </tr>\n",
       "    <tr>\n",
       "      <th>18</th>\n",
       "      <td>0</td>\n",
       "      <td>36</td>\n",
       "    </tr>\n",
       "    <tr>\n",
       "      <th>19</th>\n",
       "      <td>0</td>\n",
       "      <td>38</td>\n",
       "    </tr>\n",
       "    <tr>\n",
       "      <th>20</th>\n",
       "      <td>0</td>\n",
       "      <td>40</td>\n",
       "    </tr>\n",
       "    <tr>\n",
       "      <th>21</th>\n",
       "      <td>0</td>\n",
       "      <td>42</td>\n",
       "    </tr>\n",
       "    <tr>\n",
       "      <th>22</th>\n",
       "      <td>0</td>\n",
       "      <td>44</td>\n",
       "    </tr>\n",
       "    <tr>\n",
       "      <th>23</th>\n",
       "      <td>0</td>\n",
       "      <td>46</td>\n",
       "    </tr>\n",
       "    <tr>\n",
       "      <th>24</th>\n",
       "      <td>0</td>\n",
       "      <td>48</td>\n",
       "    </tr>\n",
       "    <tr>\n",
       "      <th>25</th>\n",
       "      <td>0</td>\n",
       "      <td>50</td>\n",
       "    </tr>\n",
       "    <tr>\n",
       "      <th>26</th>\n",
       "      <td>0</td>\n",
       "      <td>52</td>\n",
       "    </tr>\n",
       "    <tr>\n",
       "      <th>27</th>\n",
       "      <td>0</td>\n",
       "      <td>54</td>\n",
       "    </tr>\n",
       "    <tr>\n",
       "      <th>28</th>\n",
       "      <td>0</td>\n",
       "      <td>56</td>\n",
       "    </tr>\n",
       "    <tr>\n",
       "      <th>29</th>\n",
       "      <td>0</td>\n",
       "      <td>58</td>\n",
       "    </tr>\n",
       "    <tr>\n",
       "      <th>...</th>\n",
       "      <td>...</td>\n",
       "      <td>...</td>\n",
       "    </tr>\n",
       "    <tr>\n",
       "      <th>37525</th>\n",
       "      <td>184</td>\n",
       "      <td>346</td>\n",
       "    </tr>\n",
       "    <tr>\n",
       "      <th>37526</th>\n",
       "      <td>184</td>\n",
       "      <td>348</td>\n",
       "    </tr>\n",
       "    <tr>\n",
       "      <th>37527</th>\n",
       "      <td>184</td>\n",
       "      <td>350</td>\n",
       "    </tr>\n",
       "    <tr>\n",
       "      <th>37528</th>\n",
       "      <td>184</td>\n",
       "      <td>352</td>\n",
       "    </tr>\n",
       "    <tr>\n",
       "      <th>37529</th>\n",
       "      <td>184</td>\n",
       "      <td>354</td>\n",
       "    </tr>\n",
       "    <tr>\n",
       "      <th>37530</th>\n",
       "      <td>184</td>\n",
       "      <td>356</td>\n",
       "    </tr>\n",
       "    <tr>\n",
       "      <th>37531</th>\n",
       "      <td>184</td>\n",
       "      <td>358</td>\n",
       "    </tr>\n",
       "    <tr>\n",
       "      <th>37532</th>\n",
       "      <td>184</td>\n",
       "      <td>360</td>\n",
       "    </tr>\n",
       "    <tr>\n",
       "      <th>37533</th>\n",
       "      <td>184</td>\n",
       "      <td>362</td>\n",
       "    </tr>\n",
       "    <tr>\n",
       "      <th>37534</th>\n",
       "      <td>184</td>\n",
       "      <td>364</td>\n",
       "    </tr>\n",
       "    <tr>\n",
       "      <th>37535</th>\n",
       "      <td>184</td>\n",
       "      <td>366</td>\n",
       "    </tr>\n",
       "    <tr>\n",
       "      <th>37536</th>\n",
       "      <td>184</td>\n",
       "      <td>368</td>\n",
       "    </tr>\n",
       "    <tr>\n",
       "      <th>37537</th>\n",
       "      <td>184</td>\n",
       "      <td>370</td>\n",
       "    </tr>\n",
       "    <tr>\n",
       "      <th>37538</th>\n",
       "      <td>184</td>\n",
       "      <td>372</td>\n",
       "    </tr>\n",
       "    <tr>\n",
       "      <th>37539</th>\n",
       "      <td>184</td>\n",
       "      <td>374</td>\n",
       "    </tr>\n",
       "    <tr>\n",
       "      <th>37540</th>\n",
       "      <td>184</td>\n",
       "      <td>376</td>\n",
       "    </tr>\n",
       "    <tr>\n",
       "      <th>37541</th>\n",
       "      <td>184</td>\n",
       "      <td>378</td>\n",
       "    </tr>\n",
       "    <tr>\n",
       "      <th>37542</th>\n",
       "      <td>184</td>\n",
       "      <td>380</td>\n",
       "    </tr>\n",
       "    <tr>\n",
       "      <th>37543</th>\n",
       "      <td>184</td>\n",
       "      <td>382</td>\n",
       "    </tr>\n",
       "    <tr>\n",
       "      <th>37544</th>\n",
       "      <td>184</td>\n",
       "      <td>384</td>\n",
       "    </tr>\n",
       "    <tr>\n",
       "      <th>37545</th>\n",
       "      <td>184</td>\n",
       "      <td>386</td>\n",
       "    </tr>\n",
       "    <tr>\n",
       "      <th>37546</th>\n",
       "      <td>184</td>\n",
       "      <td>388</td>\n",
       "    </tr>\n",
       "    <tr>\n",
       "      <th>37547</th>\n",
       "      <td>184</td>\n",
       "      <td>390</td>\n",
       "    </tr>\n",
       "    <tr>\n",
       "      <th>37548</th>\n",
       "      <td>184</td>\n",
       "      <td>392</td>\n",
       "    </tr>\n",
       "    <tr>\n",
       "      <th>37549</th>\n",
       "      <td>184</td>\n",
       "      <td>394</td>\n",
       "    </tr>\n",
       "    <tr>\n",
       "      <th>37550</th>\n",
       "      <td>184</td>\n",
       "      <td>396</td>\n",
       "    </tr>\n",
       "    <tr>\n",
       "      <th>37551</th>\n",
       "      <td>184</td>\n",
       "      <td>398</td>\n",
       "    </tr>\n",
       "    <tr>\n",
       "      <th>37552</th>\n",
       "      <td>184</td>\n",
       "      <td>400</td>\n",
       "    </tr>\n",
       "    <tr>\n",
       "      <th>37553</th>\n",
       "      <td>184</td>\n",
       "      <td>402</td>\n",
       "    </tr>\n",
       "    <tr>\n",
       "      <th>37554</th>\n",
       "      <td>184</td>\n",
       "      <td>404</td>\n",
       "    </tr>\n",
       "  </tbody>\n",
       "</table>\n",
       "<p>37555 rows × 2 columns</p>\n",
       "</div>"
      ],
      "text/plain": [
       "         x    z\n",
       "0        0    0\n",
       "1        0    2\n",
       "2        0    4\n",
       "3        0    6\n",
       "4        0    8\n",
       "5        0   10\n",
       "6        0   12\n",
       "7        0   14\n",
       "8        0   16\n",
       "9        0   18\n",
       "10       0   20\n",
       "11       0   22\n",
       "12       0   24\n",
       "13       0   26\n",
       "14       0   28\n",
       "15       0   30\n",
       "16       0   32\n",
       "17       0   34\n",
       "18       0   36\n",
       "19       0   38\n",
       "20       0   40\n",
       "21       0   42\n",
       "22       0   44\n",
       "23       0   46\n",
       "24       0   48\n",
       "25       0   50\n",
       "26       0   52\n",
       "27       0   54\n",
       "28       0   56\n",
       "29       0   58\n",
       "...    ...  ...\n",
       "37525  184  346\n",
       "37526  184  348\n",
       "37527  184  350\n",
       "37528  184  352\n",
       "37529  184  354\n",
       "37530  184  356\n",
       "37531  184  358\n",
       "37532  184  360\n",
       "37533  184  362\n",
       "37534  184  364\n",
       "37535  184  366\n",
       "37536  184  368\n",
       "37537  184  370\n",
       "37538  184  372\n",
       "37539  184  374\n",
       "37540  184  376\n",
       "37541  184  378\n",
       "37542  184  380\n",
       "37543  184  382\n",
       "37544  184  384\n",
       "37545  184  386\n",
       "37546  184  388\n",
       "37547  184  390\n",
       "37548  184  392\n",
       "37549  184  394\n",
       "37550  184  396\n",
       "37551  184  398\n",
       "37552  184  400\n",
       "37553  184  402\n",
       "37554  184  404\n",
       "\n",
       "[37555 rows x 2 columns]"
      ]
     },
     "execution_count": 114,
     "metadata": {},
     "output_type": "execute_result"
    }
   ],
   "source": [
    "pd.DataFrame(points, columns=['x','z'])"
   ]
  },
  {
   "cell_type": "code",
   "execution_count": null,
   "metadata": {},
   "outputs": [],
   "source": []
  }
 ],
 "metadata": {
  "kernelspec": {
   "display_name": "Python 3",
   "language": "python",
   "name": "python3"
  },
  "language_info": {
   "codemirror_mode": {
    "name": "ipython",
    "version": 3
   },
   "file_extension": ".py",
   "mimetype": "text/x-python",
   "name": "python",
   "nbconvert_exporter": "python",
   "pygments_lexer": "ipython3",
   "version": "3.6.6"
  }
 },
 "nbformat": 4,
 "nbformat_minor": 2
}
