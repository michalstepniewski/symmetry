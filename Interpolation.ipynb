{
 "cells": [
  {
   "cell_type": "code",
   "execution_count": 6,
   "metadata": {},
   "outputs": [],
   "source": [
    "import os\n",
    "import numpy as np\n",
    "from nibabel.testing import data_path\n",
    "import matplotlib.pyplot as plt\n",
    "from scipy.interpolate import griddata\n",
    "import nibabel as nib\n",
    "from tqdm import tqdm"
   ]
  },
  {
   "cell_type": "code",
   "execution_count": 2,
   "metadata": {},
   "outputs": [],
   "source": [
    "def show(self, cmap=None):\n",
    "        cmap = cmap or plt.cm.gray\n",
    "        fig, ax = plt.subplots(1, 1, figsize=(8, 6))\n",
    "        ax.imshow(self, cmap=cmap)\n",
    "        ax.set_axis_off()\n",
    "        #plt.show()\n",
    "        return fig"
   ]
  },
  {
   "cell_type": "markdown",
   "metadata": {},
   "source": [
    "### Załadowujemy trójwymiarową maskę z pliku .nii"
   ]
  },
  {
   "cell_type": "code",
   "execution_count": 3,
   "metadata": {},
   "outputs": [],
   "source": [
    "#example_filename = os.path.join(data_path, 'example4d.nii.gz')\n",
    "#img = nib.load('../../data/001_25_mm.nii')\n",
    "#img_data = img.get_fdata()[:50,90:100,:50]\n",
    "#del img\n",
    "img_mask = nib.load('../../data/001_25_mask.nii')\n",
    "img_mask_data = img_mask.get_fdata()#[:50,90:100,:50]\n",
    "del img_mask\n"
   ]
  },
  {
   "cell_type": "code",
   "execution_count": 4,
   "metadata": {},
   "outputs": [],
   "source": [
    "## zaloadowac maske i obraz\n",
    "# obejrzec w 3D\n",
    "# sprobowac 'wymazac' z maski wszystkie maski oprocz co piatej\n",
    "# sprobowac interpolowac maske na 'wewnetrzne slice'y\n"
   ]
  },
  {
   "cell_type": "code",
   "execution_count": null,
   "metadata": {},
   "outputs": [],
   "source": [
    "def interp_mine(img1, img2, dist):\n",
    "    imgs = []\n",
    "diff = (img_mask_data[:,0,:] - img_mask_data[:,5,:])\n",
    "interp = (img_mask_data[:,0,:] + diff/5.0).astype(int) \n",
    "    return imgs"
   ]
  },
  {
   "cell_type": "markdown",
   "metadata": {
    "variables": {
     "x = show(img_data[:,9,:]) ": "<p><strong>NameError</strong>: name &#39;show&#39; is not defined</p>\n",
     "y = show(img_mask_data[:,9,:])": "<p><strong>NameError</strong>: name &#39;show&#39; is not defined</p>\n"
    }
   },
   "source": [
    "read image | denoised image\n",
    "- | - \n",
    "{{x = show(img_data[:,9,:]) }}| {{y = show(img_mask_data[:,9,:])}}\n"
   ]
  },
  {
   "cell_type": "code",
   "execution_count": 5,
   "metadata": {},
   "outputs": [
    {
     "data": {
      "text/plain": [
       "(232, 405, 280)"
      ]
     },
     "execution_count": 5,
     "metadata": {},
     "output_type": "execute_result"
    }
   ],
   "source": [
    "# img_mask_data.shape"
   ]
  },
  {
   "cell_type": "code",
   "execution_count": 15,
   "metadata": {
    "code_folding": [
     0
    ]
   },
   "outputs": [],
   "source": [
    "def prawidlowa_interpolacja_3D(img_mask_data, step=2):\n",
    "    x_max, y_max, z_max = img_mask_data.shape\n",
    "    grid_x, grid_y, grid_z = np.mgrid[0:x_max:1, 0:y_max:1,0:z_max:1]\n",
    "    #points = np.random.rand(1000, 2)\n",
    "    point_list = []\n",
    "    for i in tqdm(range(x_max)):\n",
    "        for j in range(0,y_max,2):\n",
    "            for k in range(img_mask_data.shape[2]):\n",
    "                point_list.append([i,j,k])\n",
    "    points = np.array(point_list)\n",
    "    values = img_mask_data[points[:,0],points[:,1],points[:,2]]\n",
    "    grid_z2 = griddata(points, values, (grid_x, grid_y, grid_z), method='linear')\n",
    "    #values = img_mask_data[points]\n",
    "    #img_mask_data\n",
    "    #del point_list\n",
    "    grid_num = np.nan_to_num(grid_z2)\n",
    "    show(grid_num[:,1,:])\n",
    "    return grid_num"
   ]
  },
  {
   "cell_type": "code",
   "execution_count": null,
   "metadata": {
    "code_folding": [
     0
    ]
   },
   "outputs": [],
   "source": [
    "def trying_4D(img):\n",
    "    data = img.get_fdata()\n",
    "    hdr = img.header\n",
    "    hdr.get_xyzt_units()\n",
    "    raw = hdr.structarr\n",
    "    raw['xyzt_units']\n",
    "    img = nib.Nifti1Image(data, np.eye(4))\n",
    "    img.to_filename(os.path.join('build','test4d.nii.gz'))\n",
    "    return"
   ]
  },
  {
   "cell_type": "markdown",
   "metadata": {},
   "source": [
    "### Przystepujemy do mojej uproszczonej liniowej interpolacji\n",
    "\n"
   ]
  },
  {
   "cell_type": "code",
   "execution_count": 50,
   "metadata": {},
   "outputs": [],
   "source": [
    "def simple_interpolation(img_mask_data):\n",
    "    new_imgs = []\n",
    "    for i in tqdm(range(5, img_mask_data.shape[1],5)):\n",
    "        base_img1 = img_mask_data[:,i,:]\n",
    "        base_img0 = img_mask_data[:,i-5,:]\n",
    "        diff = (base_img1 - base_img0)\n",
    "        diff_atomic = diff/5.0\n",
    "        new_imgs.append(base_img0)\n",
    "        for j in range(1, 5):\n",
    "            interp = (base_img0 + (diff_atomic*j)).astype(int)\n",
    "            new_imgs.append(interp)\n",
    "    for k in range(i,img_mask_data.shape[1]):\n",
    "        interp = (base_img1 + (diff_atomic*(img_mask_data.shape[1]-i))).astype(int)\n",
    "        new_imgs.append(np.array(interp))\n",
    "        \n",
    "    return np.transpose(np.dstack(new_imgs),(0,2,1))\n"
   ]
  },
  {
   "cell_type": "code",
   "execution_count": 51,
   "metadata": {},
   "outputs": [
    {
     "name": "stderr",
     "output_type": "stream",
     "text": [
      "100%|██████████| 80/80 [00:00<00:00, 455.98it/s]\n"
     ]
    }
   ],
   "source": [
    "interp_mask = simple_interpolation(img_mask_data)"
   ]
  }
 ],
 "metadata": {
  "kernelspec": {
   "display_name": "Python 3",
   "language": "python",
   "name": "python3"
  },
  "language_info": {
   "codemirror_mode": {
    "name": "ipython",
    "version": 3
   },
   "file_extension": ".py",
   "mimetype": "text/x-python",
   "name": "python",
   "nbconvert_exporter": "python",
   "pygments_lexer": "ipython3",
   "version": "3.6.6"
  }
 },
 "nbformat": 4,
 "nbformat_minor": 2
}
