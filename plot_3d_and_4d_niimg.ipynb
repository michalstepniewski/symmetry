{
 "cells": [
  {
   "cell_type": "code",
   "execution_count": null,
   "metadata": {},
   "outputs": [],
   "source": [
    "%matplotlib inline"
   ]
  },
  {
   "cell_type": "markdown",
   "metadata": {},
   "source": [
    "\n",
    "3D and 4D niimgs: handling and visualizing\n",
    "==========================================\n",
    "\n",
    "Here we discover how to work with 3D and 4D niimgs.\n",
    "\n"
   ]
  },
  {
   "cell_type": "markdown",
   "metadata": {},
   "source": [
    "Downloading tutorial datasets from Internet\n",
    "--------------------------------------------\n",
    "\n",
    "Nilearn comes with functions that download public data from Internet\n",
    "\n",
    "Let's first check where the data is downloaded on our disk:\n",
    "\n"
   ]
  },
  {
   "cell_type": "code",
   "execution_count": null,
   "metadata": {},
   "outputs": [],
   "source": [
    "from nilearn import datasets\n",
    "print('Datasets are stored in: %r' % datasets.get_data_dirs())"
   ]
  },
  {
   "cell_type": "markdown",
   "metadata": {},
   "source": [
    "Let's now retrieve a motor contrast from a Neurovault repository\n",
    "\n"
   ]
  },
  {
   "cell_type": "code",
   "execution_count": null,
   "metadata": {},
   "outputs": [],
   "source": [
    "motor_images = datasets.fetch_neurovault_motor_task()\n",
    "print(motor_images.images)"
   ]
  },
  {
   "cell_type": "markdown",
   "metadata": {},
   "source": [
    "motor_images is a list of filenames. We need to take the first one\n",
    "\n"
   ]
  },
  {
   "cell_type": "code",
   "execution_count": null,
   "metadata": {},
   "outputs": [],
   "source": [
    "tmap_filename = motor_images.images[0]"
   ]
  },
  {
   "cell_type": "markdown",
   "metadata": {},
   "source": [
    "Visualizing a 3D file\n",
    "----------------------\n",
    "\n",
    "The file contains a 3D volume, we can easily visualize it as a\n",
    "statistical map:\n",
    "\n"
   ]
  },
  {
   "cell_type": "code",
   "execution_count": null,
   "metadata": {},
   "outputs": [],
   "source": [
    "from nilearn import plotting\n",
    "plotting.plot_stat_map(tmap_filename)"
   ]
  },
  {
   "cell_type": "markdown",
   "metadata": {},
   "source": [
    "Visualizing works better with a threshold\n",
    "\n"
   ]
  },
  {
   "cell_type": "code",
   "execution_count": null,
   "metadata": {},
   "outputs": [],
   "source": [
    "plotting.plot_stat_map(tmap_filename, threshold=3)"
   ]
  },
  {
   "cell_type": "markdown",
   "metadata": {},
   "source": [
    "Visualizing one volume in a 4D file\n",
    "-----------------------------------\n",
    "\n",
    "We can download resting-state networks from the Smith 2009 study on\n",
    "correspondance between rest and task\n",
    "\n"
   ]
  },
  {
   "cell_type": "code",
   "execution_count": null,
   "metadata": {},
   "outputs": [],
   "source": [
    "rsn = datasets.fetch_atlas_smith_2009()['rsn10']\n",
    "print(rsn)"
   ]
  },
  {
   "cell_type": "markdown",
   "metadata": {},
   "source": [
    "It is a 4D nifti file. We load it into the memory to print its\n",
    "shape.\n",
    "\n"
   ]
  },
  {
   "cell_type": "code",
   "execution_count": null,
   "metadata": {},
   "outputs": [],
   "source": [
    "from nilearn import image\n",
    "print(image.load_img(rsn).shape)"
   ]
  },
  {
   "cell_type": "markdown",
   "metadata": {},
   "source": [
    "We can retrieve the first volume (note that Python indexing starts at 0):\n",
    "\n"
   ]
  },
  {
   "cell_type": "code",
   "execution_count": null,
   "metadata": {},
   "outputs": [],
   "source": [
    "first_rsn = image.index_img(rsn, 0)\n",
    "print(first_rsn.shape)"
   ]
  },
  {
   "cell_type": "markdown",
   "metadata": {},
   "source": [
    "first_rsn is a 3D image.\n",
    "\n",
    "We can then plot it\n",
    "\n"
   ]
  },
  {
   "cell_type": "code",
   "execution_count": null,
   "metadata": {},
   "outputs": [],
   "source": [
    "plotting.plot_stat_map(first_rsn)"
   ]
  },
  {
   "cell_type": "markdown",
   "metadata": {},
   "source": [
    "Looping on all volumes in a 4D file\n",
    "-----------------------------------\n",
    "\n",
    "If we want to plot all the volumes in this 4D file, we can use iter_img\n",
    "to loop on them.\n",
    "\n",
    "Then we give a few arguments to plot_stat_map in order to have a more\n",
    "compact display.\n",
    "\n"
   ]
  },
  {
   "cell_type": "code",
   "execution_count": null,
   "metadata": {},
   "outputs": [],
   "source": [
    "for img in image.iter_img(rsn):\n",
    "    # img is now an in-memory 3D img\n",
    "    plotting.plot_stat_map(img, threshold=3, display_mode=\"z\", cut_coords=1,\n",
    "                           colorbar=False)"
   ]
  },
  {
   "cell_type": "markdown",
   "metadata": {},
   "source": [
    "plotting.show is useful to force the display of figures when running\n",
    "outside IPython\n",
    "\n"
   ]
  },
  {
   "cell_type": "code",
   "execution_count": null,
   "metadata": {},
   "outputs": [],
   "source": [
    "plotting.show()"
   ]
  },
  {
   "cell_type": "markdown",
   "metadata": {},
   "source": [
    "|\n",
    "\n",
    "______\n",
    "\n",
    "To recap, neuroimaging images (niimgs as we call them) come in\n",
    "different flavors:\n",
    "\n",
    "* 3D images, containing only one brain volume\n",
    "* 4D images, containing multiple brain volumes.\n",
    "\n",
    "More details about the input formats in nilearn for 3D and 4D images is\n",
    "given in the documentation section: `loading_data`.\n",
    "\n",
    "Functions accept either 3D or 4D images, and we need to use on the one\n",
    "hand :func:`nilearn.image.index_img` or :func:`nilearn.image.iter_img`\n",
    "to break down 4D images into 3D images, and on the other hand\n",
    ":func:`nilearn.image.concat_imgs` to group a list of 3D images into a 4D\n",
    "image.\n",
    "\n"
   ]
  }
 ],
 "metadata": {
  "kernelspec": {
   "display_name": "Python 3",
   "language": "python",
   "name": "python3"
  },
  "language_info": {
   "codemirror_mode": {
    "name": "ipython",
    "version": 3
   },
   "file_extension": ".py",
   "mimetype": "text/x-python",
   "name": "python",
   "nbconvert_exporter": "python",
   "pygments_lexer": "ipython3",
   "version": "3.6.6"
  }
 },
 "nbformat": 4,
 "nbformat_minor": 1
}
