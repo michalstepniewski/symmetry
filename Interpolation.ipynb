{
 "cells": [
  {
   "cell_type": "code",
   "execution_count": 8,
   "metadata": {},
   "outputs": [],
   "source": [
    "import os\n",
    "import numpy as np\n",
    "from nibabel.testing import data_path\n",
    "import matplotlib.pyplot as plt\n",
    "from scipy.interpolate import griddata"
   ]
  },
  {
   "cell_type": "code",
   "execution_count": 9,
   "metadata": {},
   "outputs": [],
   "source": [
    "#example_filename = os.path.join(data_path, 'example4d.nii.gz')"
   ]
  },
  {
   "cell_type": "code",
   "execution_count": 10,
   "metadata": {},
   "outputs": [],
   "source": [
    "import nibabel as nib\n",
    "#img = nib.load('../../data/001_25_mm.nii')\n",
    "#img_data = img.get_fdata()[:50,90:100,:50]\n",
    "#del img\n",
    "img_mask = nib.load('../../data/001_25_mask.nii')\n",
    "img_mask_data = img_mask.get_fdata()[:50,90:100,:50]\n",
    "del img_mask\n"
   ]
  },
  {
   "cell_type": "code",
   "execution_count": 11,
   "metadata": {},
   "outputs": [],
   "source": [
    "## zaloadowac maske i obraz\n",
    "# obejrzec w 3D\n",
    "# sprobowac 'wymazac' z maski wszystkie maski oprocz co piatej\n",
    "# sprobowac interpolowac maske na 'wewnetrzne slice'y\n"
   ]
  },
  {
   "cell_type": "code",
   "execution_count": 12,
   "metadata": {},
   "outputs": [],
   "source": [
    "def show(self, cmap=None):\n",
    "        cmap = cmap or plt.cm.gray\n",
    "        fig, ax = plt.subplots(1, 1, figsize=(8, 6))\n",
    "        ax.imshow(self, cmap=cmap)\n",
    "        ax.set_axis_off()\n",
    "        #plt.show()\n",
    "        return fig"
   ]
  },
  {
   "cell_type": "markdown",
   "metadata": {
    "variables": {
     "x = show(img_data[:,9,:]) ": "<img src=\"data:image/png;base64,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\n\"/>",
     "y = show(img_mask_data[:,9,:])": "<img src=\"data:image/png;base64,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\n\"/>"
    }
   },
   "source": [
    "read image | denoised image\n",
    "- | - \n",
    "{{x = show(img_data[:,9,:]) }}| {{y = show(img_mask_data[:,9,:])}}\n"
   ]
  },
  {
   "cell_type": "code",
   "execution_count": 14,
   "metadata": {},
   "outputs": [
    {
     "data": {
      "text/plain": [
       "(50, 10, 50)"
      ]
     },
     "execution_count": 14,
     "metadata": {},
     "output_type": "execute_result"
    }
   ],
   "source": [
    "img_mask_data.shape"
   ]
  },
  {
   "cell_type": "code",
   "execution_count": 15,
   "metadata": {},
   "outputs": [],
   "source": [
    "grid_x, grid_y, grid_z = np.mgrid[0:img_mask_data.shape[0]:1, 0:img_mask_data.shape[1]:1,\n",
    "                                  0:img_mask_data.shape[2]:1]"
   ]
  },
  {
   "cell_type": "code",
   "execution_count": 16,
   "metadata": {},
   "outputs": [
    {
     "name": "stderr",
     "output_type": "stream",
     "text": [
      "100%|██████████| 50/50 [00:00<00:00, 4792.72it/s]\n"
     ]
    }
   ],
   "source": [
    "#points = np.random.rand(1000, 2)\n",
    "from tqdm import tqdm\n",
    "point_list = []\n",
    "for i in tqdm(range(img_mask_data.shape[0])):\n",
    "    for j in range(0,img_mask_data.shape[1],2):\n",
    "        for k in range(img_mask_data.shape[2]):\n",
    "            point_list.append([i,j,k])\n",
    "points = np.array(point_list)\n",
    "#values = img_mask_data[points]\n",
    "#img_mask_data"
   ]
  },
  {
   "cell_type": "code",
   "execution_count": 17,
   "metadata": {},
   "outputs": [],
   "source": [
    "values = img_mask_data[points[:,0],points[:,1],points[:,2]]"
   ]
  },
  {
   "cell_type": "code",
   "execution_count": 18,
   "metadata": {},
   "outputs": [],
   "source": [
    "grid_z2 = griddata(points, values, (grid_x, grid_y, grid_z), method='linear')"
   ]
  },
  {
   "cell_type": "code",
   "execution_count": 23,
   "metadata": {},
   "outputs": [],
   "source": [
    "#del point_list\n",
    "grid_num = np.nan_to_num(grid_z2)"
   ]
  },
  {
   "cell_type": "code",
   "execution_count": 33,
   "metadata": {},
   "outputs": [
    {
     "data": {
      "image/png": "[encoded data removed]",
      "text/plain": [
       "<Figure size 576x432 with 1 Axes>"
      ]
     },
     "execution_count": 33,
     "metadata": {},
     "output_type": "execute_result"
    },
    {
     "data": {
      "image/png": "[encoded data removed]",
      "text/plain": [
       "<Figure size 576x432 with 1 Axes>"
      ]
     },
     "metadata": {
      "needs_background": "light"
     },
     "output_type": "display_data"
    }
   ],
   "source": [
    "show(grid_num[:,1,:])"
   ]
  },
  {
   "cell_type": "code",
   "execution_count": null,
   "metadata": {},
   "outputs": [],
   "source": [
    "img.get_data_dtype() == np.dtype(np.int16)"
   ]
  },
  {
   "cell_type": "code",
   "execution_count": null,
   "metadata": {},
   "outputs": [],
   "source": [
    "data = img.get_fdata()\n",
    "data.shape"
   ]
  },
  {
   "cell_type": "code",
   "execution_count": null,
   "metadata": {},
   "outputs": [],
   "source": [
    "type(data)"
   ]
  },
  {
   "cell_type": "code",
   "execution_count": null,
   "metadata": {},
   "outputs": [],
   "source": [
    "hdr = img.header"
   ]
  },
  {
   "cell_type": "code",
   "execution_count": null,
   "metadata": {},
   "outputs": [],
   "source": [
    "hdr.get_xyzt_units()"
   ]
  },
  {
   "cell_type": "code",
   "execution_count": null,
   "metadata": {},
   "outputs": [],
   "source": [
    "raw = hdr.structarr"
   ]
  },
  {
   "cell_type": "code",
   "execution_count": null,
   "metadata": {},
   "outputs": [],
   "source": [
    "raw['xyzt_units']"
   ]
  },
  {
   "cell_type": "code",
   "execution_count": null,
   "metadata": {},
   "outputs": [],
   "source": [
    "img = nib.Nifti1Image(data, np.eye(4))"
   ]
  },
  {
   "cell_type": "code",
   "execution_count": null,
   "metadata": {},
   "outputs": [],
   "source": [
    "img.to_filename(os.path.join('build','test4d.nii.gz'))"
   ]
  },
  {
   "cell_type": "code",
   "execution_count": null,
   "metadata": {},
   "outputs": [],
   "source": []
  }
 ],
 "metadata": {
  "kernelspec": {
   "display_name": "Python 3",
   "language": "python",
   "name": "python3"
  },
  "language_info": {
   "codemirror_mode": {
    "name": "ipython",
    "version": 3
   },
   "file_extension": ".py",
   "mimetype": "text/x-python",
   "name": "python",
   "nbconvert_exporter": "python",
   "pygments_lexer": "ipython3",
   "version": "3.6.6"
  }
 },
 "nbformat": 4,
 "nbformat_minor": 2
}
